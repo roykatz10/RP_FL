{
 "cells": [
  {
   "cell_type": "code",
   "execution_count": 2,
   "id": "5ec0f60d-737e-4cec-9543-112ed5541d48",
   "metadata": {},
   "outputs": [],
   "source": [
    "import pandas as pd\n",
    "import numpy as np\n",
    "import matplotlib.pyplot as plt\n",
    "import torch"
   ]
  },
  {
   "cell_type": "code",
   "execution_count": 6,
   "id": "43ef6bfc-fe9b-4d2a-8ef6-cec2c3e5dd9d",
   "metadata": {},
   "outputs": [
    {
     "name": "stdout",
     "output_type": "stream",
     "text": [
      "client 0 unique: [0 1]\n",
      "client 1 unique: [0 1]\n",
      "client 2 unique: [2 3]\n",
      "client 3 unique: [2 3]\n",
      "client 4 unique: [4 5]\n",
      "client 5 unique: [4 5]\n",
      "client 6 unique: [6 7]\n",
      "client 7 unique: [6 7]\n",
      "client 8 unique: [8 9]\n",
      "client 9 unique: [8 9]\n"
     ]
    }
   ],
   "source": [
    "## check nonIID, ed\n",
    "pref = \"Data_10clients_niid_ed/\"\n",
    "\n",
    "# colors = \n",
    "\n",
    "for i in range(10):\n",
    "    y_train = torch.load(pref + f\"y_train_id{i}.pt\").detach().numpy()\n",
    "\n",
    "    unique, counts = np.unique(y_train, return_counts=True)\n",
    "    print(f'client {i} unique: {unique}')\n",
    "    height = 0\n",
    "#     for value, count in zip(unique, counts):\n",
    "        \n",
    "#         plt.bar(i, count + height, label = value)\n",
    "#         height += count\n",
    "# plt.legend()\n",
    "\n"
   ]
  },
  {
   "cell_type": "code",
   "execution_count": null,
   "id": "6226609f-813c-40f1-a148-5c0cbcbca642",
   "metadata": {},
   "outputs": [],
   "source": []
  },
  {
   "cell_type": "code",
   "execution_count": null,
   "id": "a44f0530-a9bd-4c04-9474-8a68d86063bf",
   "metadata": {},
   "outputs": [],
   "source": []
  },
  {
   "cell_type": "code",
   "execution_count": null,
   "id": "7be53e70-4274-4e3f-8bf4-680504df9d13",
   "metadata": {},
   "outputs": [],
   "source": []
  }
 ],
 "metadata": {
  "kernelspec": {
   "display_name": "Python 3 (ipykernel)",
   "language": "python",
   "name": "python3"
  },
  "language_info": {
   "codemirror_mode": {
    "name": "ipython",
    "version": 3
   },
   "file_extension": ".py",
   "mimetype": "text/x-python",
   "name": "python",
   "nbconvert_exporter": "python",
   "pygments_lexer": "ipython3",
   "version": "3.9.12"
  }
 },
 "nbformat": 4,
 "nbformat_minor": 5
}
