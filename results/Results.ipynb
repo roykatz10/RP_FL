{
 "cells": [
  {
   "cell_type": "code",
   "execution_count": 1,
   "id": "6b4feb30-bfbe-44a8-9d4d-f4ae3536ca3a",
   "metadata": {},
   "outputs": [],
   "source": [
    "import numpy as np\n",
    "import pandas as pd\n",
    "import matplotlib.pyplot as plt\n"
   ]
  },
  {
   "cell_type": "markdown",
   "id": "36fd565b-221f-42c8-9334-1514d7017425",
   "metadata": {},
   "source": [
    "# import files"
   ]
  },
  {
   "cell_type": "markdown",
   "id": "6d05b878-fcfb-44cd-b45d-b864e03dd5d1",
   "metadata": {},
   "source": [
    "## MNIST 10 clients"
   ]
  },
  {
   "cell_type": "code",
   "execution_count": null,
   "id": "15b2140d-4e1c-494e-8029-3c7870cb9b0a",
   "metadata": {},
   "outputs": [],
   "source": [
    "### fedAvg\n",
    "favg_10c_iid_ed = np.load(\"log_nc10_nro400_str0_lr0.0001_rho0.5_dsetMNIST_10c.npy\")\n",
    "favg_10c_niid_ed = np.load(\"log_nc10_nro400_str0_lr0.0001_rho0.5_dsetMNIST_10c_iidFalse_edTrue.npy\")\n",
    "favg_10c_iid_ned = None\n",
    "favg_10c_niid_ned = np.load(\"log_nc10_nro400_str0_lr0.0001_rho0.5_dsetMNIST_10c_iidFalse_edFalse.npy\")\n",
    "\n",
    "### fedProx\n",
    "prox_10c_iid_ed = np.load(\"log_nc10_nro400_str1_lr0.0001_rho0.5_dsetMNIST_10c.npy\")\n",
    "prox_10c_niid_ed = np.load(\"log_nc10_nro400_str1_lr0.0001_rho0.5_dsetMNIST_10c_iidFalse_edTrue.npy\")\n",
    "prox_10c_iid_ned = np.load(\"log_nc10_nro400_str1_lr0.0001_rho0.5_dsetMNIST_10c_iidTrue_edFalse.npy\")\n",
    "prox_10c_niid_ned = np.load(\"log_nc10_nro400_str1_lr0.0001_rho0.5_dsetMNIST_10c_iidFalse_edFalse.npy\")\n",
    "\n",
    "### fedMedian\n",
    "med_10c_iid_ed = np.load(\"log_nc10_nro400_str2_lr0.0001_rho0.5_dsetMNIST_10c.npy\")\n",
    "med_10c_niid_ed = None\n",
    "med_10c_iid_ned = np.load(\"log_nc10_nro400_str2_lr0.0001_rho0.5_dsetMNIST_10c_iidTrue_edFalse.npy\")\n",
    "med_10c_niid_ned = np.load(\"log_nc10_nro400_str2_lr0.0001_rho0.5_dsetMNIST_10c_iidFalse_edFalse.npy\")\n",
    "\n",
    "### Yogi\n",
    "Yogi_10c_iid_ed = np.load(\"log_nc10_nro400_str3_lr0.0001_rho0.5_dsetMNIST_10c.npy\")\n",
    "Yogi_10c_niid_ed = np.load(\"log_nc10_nro400_str3_lr0.0001_rho0.5_dsetMNIST_10c_iidFalse_edTrue.npy\")\n",
    "Yogi_10c_iid_ned = np.load(\"log_nc10_nro400_str3_lr0.0001_rho0.5_dsetMNIST_10c_iidTrue_edFalse.npy\")\n",
    "Yogi_10c_niid_ned = np.load(\"log_nc10_nro400_str3_lr0.0001_rho0.5_dsetMNIST_10c_iidFalse_edFalse.npy\")\n",
    "\n",
    "### QFedAvg\n",
    "Q_10c_iid_ed = np.load(\"log_nc10_nro400_str4_lr0.0001_rho0.5_dsetMNIST_10c.npy\")\n",
    "Q_10c_niid_ed = np.load(\"log_nc10_nro400_str4_lr0.0001_rho0.5_dsetMNIST_10c_iidFalse_edTrue.npy\")\n",
    "Q_10c_iid_ned = np.load(\"log_nc10_nro400_str4_lr0.0001_rho0.5_dsetMNIST_10c_iidTrue_edFalse.npy\")\n",
    "Q_10c_niid_ned = np.load(\"log_nc10_nro400_str4_lr0.0001_rho0.5_dsetMNIST_10c_iidFalse_edFalse.npy\")\n",
    "\n",
    "### ADMM\n",
    "ADMM_10c_iid_ed = None\n",
    "ADMM_10c_niid_ed = None\n",
    "ADMM_10c_iid_ned = None\n",
    "ADMM_10c_niid_ned = None"
   ]
  },
  {
   "cell_type": "markdown",
   "id": "4415c8d1-8992-434a-9f93-f4a66c1674f2",
   "metadata": {},
   "source": [
    "## MNIST 50 clients"
   ]
  },
  {
   "cell_type": "code",
   "execution_count": null,
   "id": "29dab083-d041-40f6-9a65-39e8b42864c0",
   "metadata": {},
   "outputs": [],
   "source": [
    "### favg\n",
    "favg_50c_iid_ed = None\n",
    "favg_50c_niid_ed = None\n",
    "favg_50c_iid_ned = np.load(\"log_nc50_nro400_str0_lr0.0001_rho0.5_dsetMNIST_50c_iidTrue_edFalse.npy\")\n",
    "favg_50c_niid_ned = np.load(\"log_nc50_nro400_str0_lr0.0001_rho0.5_dsetMNIST_50c_iidFalse_edFalse.npy\") \n",
    "\n",
    "### fedProx\n",
    "prox_50c_iid_ed = np.load(\"prox_50c_iid_ed.npy\")\n",
    "prox_50c_niid_ed = None\n",
    "prox_50c_iid_ned = None\n",
    "prox_50c_niid_ned = np.load(\"log_nc50_nro400_str1_lr0.0001_rho0.5_dsetMNIST_50c_iidFalse_edFalse.npy\")\n",
    "\n",
    "### Yogi\n",
    "Yogi_50c_iid_ed = np.load(\"log_nc50_nro400_str2_lr0.0001_rho0.5_dsetMNIST_50c.npy\")\n",
    "Yogi_50c_nidd_ed = None\n",
    "Yogi_50c_iid_ned = None\n",
    "Yogi_50c_niid_ned = np.load(\"log_nc50_nro400_str2_lr0.0001_rho0.5_dsetMNIST_50c_iidFalse_edFalse.npy\")\n",
    "\n",
    "### QFedAvg\n",
    "Q_50c_iid_ed = np.load(\"log_nc50_nro400_str3_lr0.0001_rho0.5_dsetMNIST_50c.npy\")\n",
    "Q_50c_niid_ed = None\n",
    "Q_50c_iid_ned = np.load(\"log_nc50_nro400_str3_lr0.0001_rho0.5_dsetMNIST_50c_iidTrue_edFalse.npy\")\n",
    "Q_50c_niid_ned = np.load(\"log_nc50_nro400_str3_lr0.0001_rho0.5_dsetMNIST_50c_iidFalse_edFalse.npy\")\n",
    "\n",
    "### ADMM\n",
    "ADMM_50c_iid_ed = None\n",
    "ADMM_50c_niid_ed = None\n",
    "ADMM_50c_iid_ned = None\n",
    "ADMM_50c_niid_ned = None"
   ]
  }
 ],
 "metadata": {
  "kernelspec": {
   "display_name": "Python 3 (ipykernel)",
   "language": "python",
   "name": "python3"
  },
  "language_info": {
   "codemirror_mode": {
    "name": "ipython",
    "version": 3
   },
   "file_extension": ".py",
   "mimetype": "text/x-python",
   "name": "python",
   "nbconvert_exporter": "python",
   "pygments_lexer": "ipython3",
   "version": "3.9.12"
  }
 },
 "nbformat": 4,
 "nbformat_minor": 5
}
